{
 "cells": [
  {
   "cell_type": "code",
   "execution_count": 3,
   "metadata": {},
   "outputs": [],
   "source": [
    "#1 if the file is not present \n",
    "f = open('sample.txt','w')\n",
    "f.write('hello world')\n",
    "f.close()\n",
    "\n",
    "# f.write('here it will give error because iam trying to write in a closed file')"
   ]
  },
  {
   "cell_type": "code",
   "execution_count": 5,
   "metadata": {},
   "outputs": [],
   "source": [
    "f = open('sample.txt','w')\n",
    "f.write('hello world1')\n",
    "f.write('\\n how are you')\n",
    "f.close()\n",
    "#here old file data is replaced with new file content\n"
   ]
  },
  {
   "cell_type": "code",
   "execution_count": 12,
   "metadata": {},
   "outputs": [],
   "source": [
    "f = open('sample.txt','a')\n",
    "f.write('\\n \"a\" mode stands for append mode')\n",
    "f.close()"
   ]
  },
  {
   "cell_type": "code",
   "execution_count": 16,
   "metadata": {},
   "outputs": [],
   "source": [
    "#passing multiple lines using list and writelines.\n",
    "l = ['\\naryan','kiran','gawade']\n",
    "f = open('sample.txt','a')\n",
    "f.writelines(l)\n",
    "f.close()"
   ]
  },
  {
   "cell_type": "code",
   "execution_count": 19,
   "metadata": {
    "scrolled": true
   },
   "outputs": [
    {
     "name": "stdout",
     "output_type": "stream",
     "text": [
      "hello world1\n",
      " how are you\n",
      " \"a\" mode stands for append mode\n",
      " \"a\" mode stands for append mode\n",
      " \"a\" mode stands for append mode\n",
      " \"a\" mode stands for append mode\n",
      " \"a\" mode stands for append mode\n",
      " \"a\" mode stands for append mode\n",
      " \"a\" mode stands for append modearyankirangawadearyankirangawade\n",
      "aryankirangawade\n"
     ]
    }
   ],
   "source": [
    "#read upto n chars\n",
    "f = open('sample.txt','r')\n",
    "s = f.read()\n",
    "f.close()\n",
    "print(s)"
   ]
  },
  {
   "cell_type": "code",
   "execution_count": 24,
   "metadata": {},
   "outputs": [
    {
     "name": "stdout",
     "output_type": "stream",
     "text": [
      "hello world1\n",
      " how are you\n",
      " \"a\" mode stands for append mo\n"
     ]
    }
   ],
   "source": [
    "f = open('sample.txt','r')\n",
    "s = f.read(56)\n",
    "f.close()\n",
    "print(s)"
   ]
  },
  {
   "cell_type": "code",
   "execution_count": 27,
   "metadata": {},
   "outputs": [
    {
     "name": "stdout",
     "output_type": "stream",
     "text": [
      "hello world1\n",
      "  how are you\n",
      "\n"
     ]
    }
   ],
   "source": [
    "f = open('sample.txt','r')\n",
    "print(f.readline(),end = \" \")\n",
    "print(f.readline())\n",
    "f.close()"
   ]
  },
  {
   "cell_type": "code",
   "execution_count": 29,
   "metadata": {},
   "outputs": [
    {
     "name": "stdout",
     "output_type": "stream",
     "text": [
      "hello world1\n",
      " how are you\n",
      " \"a\" mode stands for append mode\n",
      " \"a\" mode stands for append mode\n",
      " \"a\" mode stands for append mode\n",
      " \"a\" mode stands for append mode\n",
      " \"a\" mode stands for append mode\n",
      " \"a\" mode stands for append mode\n",
      " \"a\" mode stands for append modearyankirangawadearyankirangawade\n",
      "aryankirangawade"
     ]
    }
   ],
   "source": [
    "f = open('sample.txt','r')\n",
    "for i in f.readlines():\n",
    "    print(i,end='')"
   ]
  },
  {
   "cell_type": "code",
   "execution_count": 31,
   "metadata": {},
   "outputs": [],
   "source": [
    "#with keyword helps us to directly close the file \n",
    "with open('sample.txt','a') as f:\n",
    "    f.write('\\naryan kiran gawade is fan of selmon bhai')"
   ]
  },
  {
   "cell_type": "code",
   "execution_count": 32,
   "metadata": {},
   "outputs": [
    {
     "name": "stdout",
     "output_type": "stream",
     "text": [
      "hello world1\n",
      " how are you\n",
      " \"a\" mode stands for append mode\n",
      " \"a\" mode stands for append mode\n",
      " \"a\" mode stands for append mode\n",
      " \"a\" mode stands for append mode\n",
      " \"a\" mode stands for append mode\n",
      " \"a\" mode stands for append mode\n",
      " \"a\" mode stands for append modearyankirangawadearyankirangawade\n",
      "aryankirangawadearyan kiran gawade is fan of selmon bhai\n",
      "aryan kiran gawade is fan of selmon bhai\n"
     ]
    }
   ],
   "source": [
    "with open('sample.txt','r') as f:\n",
    "    print(f.read())"
   ]
  },
  {
   "cell_type": "code",
   "execution_count": 33,
   "metadata": {},
   "outputs": [
    {
     "name": "stdout",
     "output_type": "stream",
     "text": [
      "hello worl\n",
      "d1\n",
      " how are you\n",
      " \"a\"\n"
     ]
    }
   ],
   "source": [
    "with open('sample.txt','r') as f:\n",
    "    print(f.read(10))\n",
    "    print(f.read(20)) # file is loaded in chunks buffer helps us in processing file"
   ]
  },
  {
   "cell_type": "code",
   "execution_count": 1,
   "metadata": {},
   "outputs": [],
   "source": [
    "bitL = ['hello world' for i in range(1000)]\n",
    "\n",
    "with open('big.txt','w') as f:\n",
    "    f.writelines(bitL)\n",
    "\n",
    "    "
   ]
  },
  {
   "cell_type": "code",
   "execution_count": 3,
   "metadata": {},
   "outputs": [
    {
     "name": "stdout",
     "output_type": "stream",
     "text": [
      "ello worldhello worldhello worldhello worldhello worldhello worldhello worldhello worldhello worldhe***o worldhello worldhello worldhello worldhello worldhello worldhello worldhello worldhello worldhello***orldhello worldhello worldhello worldhello worldhello worldhello worldhello worldhello worldhello wo***dhello worldhello worldhello worldhello worldhello worldhello worldhello worldhello worldhello world***llo worldhello worldhello worldhello worldhello worldhello worldhello worldhello worldhello worldhel*** worldhello worldhello worldhello worldhello worldhello worldhello worldhello worldhello worldhello ***rldhello worldhello worldhello worldhello worldhello worldhello worldhello worldhello worldhello wor***hello worldhello worldhello worldhello worldhello worldhello worldhello worldhello worldhello worldh***lo worldhello worldhello worldhello worldhello worldhello worldhello worldhello worldhello worldhell***worldhello worldhello worldhello worldhello worldhello worldhello worldhello worldhello worldhello w***ldhello worldhello worldhello worldhello worldhello worldhello worldhello worldhello worldhello worl***ello worldhello worldhello worldhello worldhello worldhello worldhello worldhello worldhello worldhe***o worldhello worldhello worldhello worldhello worldhello worldhello worldhello worldhello worldhello***orldhello worldhello worldhello worldhello worldhello worldhello worldhello worldhello worldhello wo***dhello worldhello worldhello worldhello worldhello worldhello worldhello worldhello worldhello world***llo worldhello worldhello worldhello worldhello worldhello worldhello worldhello worldhello worldhel*** worldhello worldhello worldhello worldhello worldhello worldhello worldhello worldhello worldhello ***rldhello worldhello worldhello worldhello worldhello worldhello worldhello worldhello worldhello wor***hello worldhello worldhello worldhello worldhello worldhello worldhello worldhello worldhello worldh***lo worldhello worldhello worldhello worldhello worldhello worldhello worldhello worldhello worldhell***worldhello worldhello worldhello worldhello worldhello worldhello worldhello worldhello worldhello w***ldhello worldhello worldhello worldhello worldhello worldhello worldhello worldhello worldhello worl***ello worldhello worldhello worldhello worldhello worldhello worldhello worldhello worldhello worldhe***o worldhello worldhello worldhello worldhello worldhello worldhello worldhello worldhello worldhello***orldhello worldhello worldhello worldhello worldhello worldhello worldhello worldhello worldhello wo***dhello worldhello worldhello worldhello worldhello worldhello worldhello worldhello worldhello world***llo worldhello worldhello worldhello worldhello worldhello worldhello worldhello worldhello worldhel*** worldhello worldhello worldhello worldhello worldhello worldhello worldhello worldhello worldhello ***rldhello worldhello worldhello worldhello worldhello worldhello worldhello worldhello worldhello wor***hello worldhello worldhello worldhello worldhello worldhello worldhello worldhello worldhello worldh***lo worldhello worldhello worldhello worldhello worldhello worldhello worldhello worldhello worldhell***worldhello worldhello worldhello worldhello worldhello worldhello worldhello worldhello worldhello w***ldhello worldhello worldhello worldhello worldhello worldhello worldhello worldhello worldhello worl***ello worldhello worldhello worldhello worldhello worldhello worldhello worldhello worldhello worldhe***o worldhello worldhello worldhello worldhello worldhello worldhello worldhello worldhello worldhello***orldhello worldhello worldhello worldhello worldhello worldhello worldhello worldhello worldhello wo***dhello worldhello worldhello worldhello worldhello worldhello worldhello worldhello worldhello world***"
     ]
    }
   ],
   "source": [
    "#loading file by chunk size.\n",
    "with open('big.txt','r') as f:\n",
    "    chunk_size = 100\n",
    "    while len(f.read(chunk_size))>0:\n",
    "        print(f.read(chunk_size),end= \"***\")\n",
    "        f.read(chunk_size)\n",
    "        \n"
   ]
  },
  {
   "cell_type": "code",
   "execution_count": 8,
   "metadata": {},
   "outputs": [
    {
     "name": "stdout",
     "output_type": "stream",
     "text": [
      "hello worl\n",
      "10\n",
      "20\n"
     ]
    }
   ],
   "source": [
    "#f.seek and f.tell function \n",
    "with open('sample.txt','r') as f:\n",
    "    print(f.read(10))\n",
    "    print(f.tell())# at what point the cursor is to process content\n",
    "    f.seek(20)# to change the cursor position we use f.seek\n",
    "    print(f.tell())\n",
    "    \n"
   ]
  },
  {
   "cell_type": "markdown",
   "metadata": {},
   "source": [
    "# text file problems \n"
   ]
  },
  {
   "cell_type": "code",
   "execution_count": null,
   "metadata": {},
   "outputs": [],
   "source": [
    "#here we can't read the binary files\n",
    "#here we also can't read the image,videos or other files which are not text.\n",
    "#we cannot write integer/float/decimal to a text file because it has to be everytime unicode characters.\n"
   ]
  },
  {
   "cell_type": "code",
   "execution_count": 10,
   "metadata": {},
   "outputs": [],
   "source": [
    "#to read a binary file\n",
    "with open('1.png','rb') as f:\n",
    "    with open('2.png','wb') as wf:\n",
    "        wf.write(f.read())\n",
    "        \n",
    "    \n"
   ]
  },
  {
   "cell_type": "code",
   "execution_count": 12,
   "metadata": {},
   "outputs": [
    {
     "ename": "TypeError",
     "evalue": "write() argument must be str, not int",
     "output_type": "error",
     "traceback": [
      "\u001b[1;31m---------------------------------------------------------------------------\u001b[0m",
      "\u001b[1;31mTypeError\u001b[0m                                 Traceback (most recent call last)",
      "\u001b[1;32m<ipython-input-12-78a3288b2e78>\u001b[0m in \u001b[0;36m<module>\u001b[1;34m\u001b[0m\n\u001b[0;32m      3\u001b[0m \u001b[1;33m\u001b[0m\u001b[0m\n\u001b[0;32m      4\u001b[0m \u001b[1;32mwith\u001b[0m \u001b[0mopen\u001b[0m\u001b[1;33m(\u001b[0m\u001b[1;34m'sample2.txt'\u001b[0m\u001b[1;33m,\u001b[0m\u001b[1;34m'w'\u001b[0m\u001b[1;33m)\u001b[0m \u001b[1;32mas\u001b[0m \u001b[0mf\u001b[0m\u001b[1;33m:\u001b[0m\u001b[1;33m\u001b[0m\u001b[1;33m\u001b[0m\u001b[0m\n\u001b[1;32m----> 5\u001b[1;33m     \u001b[0mf\u001b[0m\u001b[1;33m.\u001b[0m\u001b[0mwrite\u001b[0m\u001b[1;33m(\u001b[0m\u001b[1;36m5\u001b[0m\u001b[1;33m)\u001b[0m\u001b[1;33m\u001b[0m\u001b[1;33m\u001b[0m\u001b[0m\n\u001b[0m\u001b[0;32m      6\u001b[0m \u001b[1;33m\u001b[0m\u001b[0m\n",
      "\u001b[1;31mTypeError\u001b[0m: write() argument must be str, not int"
     ]
    }
   ],
   "source": [
    "with open('sample2.txt','w') as f:\n",
    "    f.write('5')\n",
    "    \n",
    "with open('sample2.txt','w') as f:\n",
    "    f.write(5)\n",
    "    "
   ]
  },
  {
   "cell_type": "code",
   "execution_count": 1,
   "metadata": {},
   "outputs": [
    {
     "name": "stdout",
     "output_type": "stream",
     "text": [
      "10\n"
     ]
    }
   ],
   "source": [
    "with open('sample2.txt','w') as f:\n",
    "    f.write('5')\n",
    "    \n",
    "with open('sample2.txt','r') as f:\n",
    "    print(int(f.read())+5)\n"
   ]
  },
  {
   "cell_type": "markdown",
   "metadata": {},
   "source": [
    "# serialization : converting python data type to json format "
   ]
  },
  {
   "cell_type": "markdown",
   "metadata": {},
   "source": [
    "# deserialization : process of converting json to python data types "
   ]
  },
  {
   "cell_type": "markdown",
   "metadata": {},
   "source": [
    "# json : javascript object notation "
   ]
  },
  {
   "cell_type": "code",
   "execution_count": 2,
   "metadata": {},
   "outputs": [],
   "source": [
    "import json \n",
    "l = [1,2,3,4,5]\n",
    "\n",
    "with open('demojson.txt','w') as f:\n",
    "    json.dump(l,f)"
   ]
  },
  {
   "cell_type": "code",
   "execution_count": 14,
   "metadata": {},
   "outputs": [],
   "source": [
    "d= {\n",
    "    'name':'aryan kiran gawade',\n",
    "    'age':21,\n",
    "    'gender':'male'\n",
    "}\n",
    "\n",
    "with open('demo.json','w') as f:\n",
    "    json.dump(d,f,indent = 4)"
   ]
  },
  {
   "cell_type": "code",
   "execution_count": 16,
   "metadata": {},
   "outputs": [
    {
     "name": "stdout",
     "output_type": "stream",
     "text": [
      "{'name': 'aryan kiran gawade', 'age': 21, 'gender': 'male'}\n",
      "<class 'dict'>\n"
     ]
    }
   ],
   "source": [
    "import json \n",
    "with open('demo.json','r') as f:\n",
    "    d = json.load(f)\n",
    "    print(d)\n",
    "    print(type(d))\n",
    "    "
   ]
  },
  {
   "cell_type": "code",
   "execution_count": 17,
   "metadata": {},
   "outputs": [],
   "source": [
    "import json \n",
    "t = (1,2,3,4,5)\n",
    "with open('demo.json','w') as f:\n",
    "    json.dump(t,f)"
   ]
  },
  {
   "cell_type": "code",
   "execution_count": 19,
   "metadata": {},
   "outputs": [],
   "source": [
    "d = {\n",
    "    'student':['aryan','kiran'],\n",
    "    'age':(23,43)\n",
    "}\n",
    "with open('demo.json','w') as f:\n",
    "    json.dump(d,f)\n",
    "    "
   ]
  },
  {
   "cell_type": "code",
   "execution_count": 52,
   "metadata": {},
   "outputs": [],
   "source": [
    "class Person:\n",
    "    def __init__(self,fname,lname,age,gender):\n",
    "        self.fname = fname\n",
    "        self.lname = lname\n",
    "        self.age = age\n",
    "        self.gender = gender\n",
    "\n",
    "person = Person('aryan','gawade',21,'M')\n",
    "\n",
    "\n",
    "def show_object(person):\n",
    "    if isinstance(person,Person):\n",
    "        return {'name':person.fname + ' '+ person.lname,'age': person.age,'gender':person.gender}\n",
    "\n",
    "with open('demojson.json','w') as f:\n",
    "    json.dump(person,f,default = show_object,indent = 4)"
   ]
  },
  {
   "cell_type": "code",
   "execution_count": 50,
   "metadata": {},
   "outputs": [],
   "source": [
    "# with open('demojson.json','w') as f:\n",
    "#     json.dump(person,f)\n",
    "    "
   ]
  },
  {
   "cell_type": "markdown",
   "metadata": {},
   "source": [
    "# pickling is the process where by a python object hierarchy is converted into a byte stream,and unpickling is the reverse operation, where by a byte stream(from a binary file or bytes-like object) is converted back into an object hierarchy "
   ]
  },
  {
   "cell_type": "code",
   "execution_count": 53,
   "metadata": {},
   "outputs": [],
   "source": [
    "# converting a class object into byte stream using pickle and then deserializing the byte stream file(binary file)"
   ]
  },
  {
   "cell_type": "code",
   "execution_count": 65,
   "metadata": {},
   "outputs": [
    {
     "name": "stdout",
     "output_type": "stream",
     "text": [
      "my name is aryan and my age is 21 and gender is M \n"
     ]
    }
   ],
   "source": [
    "class person:\n",
    "    def __init__(self,name,age,gender):\n",
    "        self.name= name\n",
    "        self.age = age\n",
    "        self.gender = gender\n",
    "        \n",
    "    def  details_method(self):\n",
    "        print(\"my name is {} and my age is {} and gender is {} \".format(self.name,self.age,self.gender))\n",
    "\n",
    "aryan_obj = person('aryan',21,'M')\n",
    "# aryan_obj.details_method()\n"
   ]
  },
  {
   "cell_type": "code",
   "execution_count": 68,
   "metadata": {},
   "outputs": [],
   "source": [
    "# converting the python object into stream of bytes using pickle.\n",
    "import pickle\n",
    "with open('aryan_obj.pkl','wb') as f:\n",
    "    pickle.dump(aryan_obj,f)"
   ]
  },
  {
   "cell_type": "code",
   "execution_count": 75,
   "metadata": {},
   "outputs": [
    {
     "name": "stdout",
     "output_type": "stream",
     "text": [
      "my name is aryan and my age is 21 and gender is M \n"
     ]
    }
   ],
   "source": [
    "#converting the stream of bytes into object.\n",
    "with open('aryan_obj.pkl','rb') as f:\n",
    "    p = pickle.load(f)\n",
    "\n",
    "p.details_method()"
   ]
  },
  {
   "cell_type": "code",
   "execution_count": null,
   "metadata": {},
   "outputs": [],
   "source": [
    "#pickle:let user to store data in binary format.\n",
    "\n",
    "#json: let user store data in human readable format.\n"
   ]
  }
 ],
 "metadata": {
  "kernelspec": {
   "display_name": "Python 3",
   "language": "python",
   "name": "python3"
  },
  "language_info": {
   "codemirror_mode": {
    "name": "ipython",
    "version": 3
   },
   "file_extension": ".py",
   "mimetype": "text/x-python",
   "name": "python",
   "nbconvert_exporter": "python",
   "pygments_lexer": "ipython3",
   "version": "3.9.0"
  }
 },
 "nbformat": 4,
 "nbformat_minor": 4
}
